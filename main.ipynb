{
 "cells": [
  {
   "cell_type": "markdown",
   "metadata": {},
   "source": [
    "# Import necessacry packeages\n"
   ]
  },
  {
   "cell_type": "code",
   "execution_count": 76,
   "metadata": {},
   "outputs": [],
   "source": [
    "import requests\n",
    "from bs4 import BeautifulSoup\n",
    "import pandas as pd "
   ]
  },
  {
   "cell_type": "code",
   "execution_count": 77,
   "metadata": {},
   "outputs": [
    {
     "data": {
      "text/plain": [
       "200"
      ]
     },
     "execution_count": 77,
     "metadata": {},
     "output_type": "execute_result"
    }
   ],
   "source": [
    "website = \"https://books.toscrape.com/\" \n",
    "response = requests.get(website)\n",
    "response.status_code"
   ]
  },
  {
   "cell_type": "code",
   "execution_count": 78,
   "metadata": {},
   "outputs": [
    {
     "data": {
      "text/plain": [
       "'All products | Books to Scrape - Sandbox'"
      ]
     },
     "execution_count": 78,
     "metadata": {},
     "output_type": "execute_result"
    }
   ],
   "source": [
    "soup = BeautifulSoup(response.text,'html')\n",
    "title = soup.find('title')\n",
    "title.text.strip()\n"
   ]
  },
  {
   "cell_type": "code",
   "execution_count": 79,
   "metadata": {},
   "outputs": [
    {
     "data": {
      "text/plain": [
       "20"
      ]
     },
     "execution_count": 79,
     "metadata": {},
     "output_type": "execute_result"
    }
   ],
   "source": [
    "books = soup.find_all('article', class_ = \"product_pod\")\n",
    "len(books)"
   ]
  },
  {
   "cell_type": "code",
   "execution_count": 80,
   "metadata": {},
   "outputs": [
    {
     "data": {
      "text/plain": [
       "'A Light in the ...'"
      ]
     },
     "execution_count": 80,
     "metadata": {},
     "output_type": "execute_result"
    }
   ],
   "source": [
    "book = books[0]\n",
    "book_title = book.find('h3')\n",
    "book_title.text"
   ]
  },
  {
   "cell_type": "code",
   "execution_count": 81,
   "metadata": {},
   "outputs": [
    {
     "data": {
      "text/plain": [
       "<h3><a href=\"catalogue/a-light-in-the-attic_1000/index.html\" title=\"A Light in the Attic\">A Light in the ...</a></h3>"
      ]
     },
     "execution_count": 81,
     "metadata": {},
     "output_type": "execute_result"
    }
   ],
   "source": [
    "book_title"
   ]
  },
  {
   "cell_type": "code",
   "execution_count": 82,
   "metadata": {},
   "outputs": [
    {
     "data": {
      "text/plain": [
       "'A Light in the Attic'"
      ]
     },
     "execution_count": 82,
     "metadata": {},
     "output_type": "execute_result"
    }
   ],
   "source": [
    "book_title.a['title']"
   ]
  },
  {
   "cell_type": "code",
   "execution_count": 83,
   "metadata": {},
   "outputs": [
    {
     "data": {
      "text/plain": [
       "['star-rating', 'Three']"
      ]
     },
     "execution_count": 83,
     "metadata": {},
     "output_type": "execute_result"
    }
   ],
   "source": [
    "rating = book.find('p')\n",
    "rating['class']"
   ]
  },
  {
   "cell_type": "code",
   "execution_count": 84,
   "metadata": {},
   "outputs": [
    {
     "data": {
      "text/plain": [
       "3"
      ]
     },
     "execution_count": 84,
     "metadata": {},
     "output_type": "execute_result"
    }
   ],
   "source": [
    "rating_stars = {\n",
    "    'One':1,\n",
    "    'Two':2,\n",
    "    'Three':3,\n",
    "    'Four':4,\n",
    "    'Five':5,\n",
    "}\n",
    "stars = rating_stars[rating['class'][-1]]\n",
    "stars"
   ]
  },
  {
   "cell_type": "code",
   "execution_count": 85,
   "metadata": {},
   "outputs": [
    {
     "data": {
      "text/plain": [
       "'£51.77'"
      ]
     },
     "execution_count": 85,
     "metadata": {},
     "output_type": "execute_result"
    }
   ],
   "source": [
    "price = book.find('div', class_ = \"product_price\").find('p').text[1:]\n",
    "price"
   ]
  },
  {
   "cell_type": "code",
   "execution_count": 86,
   "metadata": {},
   "outputs": [
    {
     "data": {
      "text/plain": [
       "'https://books.toscrape.com/media/cache/2c/da/2cdad67c44b002e7ead0cc35693c0e8b.jpg'"
      ]
     },
     "execution_count": 86,
     "metadata": {},
     "output_type": "execute_result"
    }
   ],
   "source": [
    "image_url =f'{website}{book.find('img')['src']}'\n",
    "image_url"
   ]
  },
  {
   "cell_type": "code",
   "execution_count": 87,
   "metadata": {},
   "outputs": [
    {
     "data": {
      "text/plain": [
       "'In stock'"
      ]
     },
     "execution_count": 87,
     "metadata": {},
     "output_type": "execute_result"
    }
   ],
   "source": [
    "in_stock  = book.find('div',class_= \"product_price\").find_all('p')[1]\n",
    "in_stock.text.strip()"
   ]
  },
  {
   "cell_type": "code",
   "execution_count": 91,
   "metadata": {},
   "outputs": [],
   "source": [
    "def extractor(book):\n",
    "    try:\n",
    "        book_title = book.find('h3') \n",
    "    except:\n",
    "        book_title = \"Not found\"\n",
    "\n",
    "\n",
    "    try:\n",
    "        stars = rating_stars[ book.find('p')['class'][-1]]\n",
    "    except:\n",
    "        stars = 0\n",
    "    \n",
    "    try:\n",
    "        price = book.find('div', class_ = \"product_price\").find('p').text[1:]\n",
    "    except:\n",
    "        price = \"00.00\"\n",
    "\n",
    "    try:\n",
    "        image_url =f'{website}{book.find('img')['src']}'\n",
    "    except:\n",
    "        image_url = \"\"\n",
    "\n",
    "    try:\n",
    "        in_stock  = book.find('div',class_= \"product_price\").find_all('p')[1].text.strip()\n",
    "    except:\n",
    "        in_stock = \"\"\n",
    "\n",
    "    item ={\n",
    "        \"Title\":book_title,\n",
    "        \"Stars\":stars,\n",
    "        \"Price\":price,\n",
    "        \"Availablity\": in_stock,\n",
    "        \"Image\":image_url,\n",
    "    }\n",
    "    return item"
   ]
  },
  {
   "cell_type": "code",
   "execution_count": 92,
   "metadata": {},
   "outputs": [],
   "source": [
    "book_items = []\n",
    "\n",
    "for book in books:\n",
    "    item = extractor(book)\n",
    "    book_items.append(item)\n",
    "\n",
    "       \n",
    "    "
   ]
  },
  {
   "cell_type": "code",
   "execution_count": 93,
   "metadata": {},
   "outputs": [
    {
     "data": {
      "text/plain": [
       "[{'Title': <h3><a href=\"catalogue/a-light-in-the-attic_1000/index.html\" title=\"A Light in the Attic\">A Light in the ...</a></h3>,\n",
       "  'Stars': 3,\n",
       "  'Price': '£51.77',\n",
       "  'Availablity': 'In stock',\n",
       "  'Image': 'https://books.toscrape.com/media/cache/2c/da/2cdad67c44b002e7ead0cc35693c0e8b.jpg'},\n",
       " {'Title': <h3><a href=\"catalogue/tipping-the-velvet_999/index.html\" title=\"Tipping the Velvet\">Tipping the Velvet</a></h3>,\n",
       "  'Stars': 1,\n",
       "  'Price': '£53.74',\n",
       "  'Availablity': 'In stock',\n",
       "  'Image': 'https://books.toscrape.com/media/cache/26/0c/260c6ae16bce31c8f8c95daddd9f4a1c.jpg'},\n",
       " {'Title': <h3><a href=\"catalogue/soumission_998/index.html\" title=\"Soumission\">Soumission</a></h3>,\n",
       "  'Stars': 1,\n",
       "  'Price': '£50.10',\n",
       "  'Availablity': 'In stock',\n",
       "  'Image': 'https://books.toscrape.com/media/cache/3e/ef/3eef99c9d9adef34639f510662022830.jpg'},\n",
       " {'Title': <h3><a href=\"catalogue/sharp-objects_997/index.html\" title=\"Sharp Objects\">Sharp Objects</a></h3>,\n",
       "  'Stars': 4,\n",
       "  'Price': '£47.82',\n",
       "  'Availablity': 'In stock',\n",
       "  'Image': 'https://books.toscrape.com/media/cache/32/51/3251cf3a3412f53f339e42cac2134093.jpg'},\n",
       " {'Title': <h3><a href=\"catalogue/sapiens-a-brief-history-of-humankind_996/index.html\" title=\"Sapiens: A Brief History of Humankind\">Sapiens: A Brief History ...</a></h3>,\n",
       "  'Stars': 5,\n",
       "  'Price': '£54.23',\n",
       "  'Availablity': 'In stock',\n",
       "  'Image': 'https://books.toscrape.com/media/cache/be/a5/bea5697f2534a2f86a3ef27b5a8c12a6.jpg'},\n",
       " {'Title': <h3><a href=\"catalogue/the-requiem-red_995/index.html\" title=\"The Requiem Red\">The Requiem Red</a></h3>,\n",
       "  'Stars': 1,\n",
       "  'Price': '£22.65',\n",
       "  'Availablity': 'In stock',\n",
       "  'Image': 'https://books.toscrape.com/media/cache/68/33/68339b4c9bc034267e1da611ab3b34f8.jpg'},\n",
       " {'Title': <h3><a href=\"catalogue/the-dirty-little-secrets-of-getting-your-dream-job_994/index.html\" title=\"The Dirty Little Secrets of Getting Your Dream Job\">The Dirty Little Secrets ...</a></h3>,\n",
       "  'Stars': 4,\n",
       "  'Price': '£33.34',\n",
       "  'Availablity': 'In stock',\n",
       "  'Image': 'https://books.toscrape.com/media/cache/92/27/92274a95b7c251fea59a2b8a78275ab4.jpg'},\n",
       " {'Title': <h3><a href=\"catalogue/the-coming-woman-a-novel-based-on-the-life-of-the-infamous-feminist-victoria-woodhull_993/index.html\" title=\"The Coming Woman: A Novel Based on the Life of the Infamous Feminist, Victoria Woodhull\">The Coming Woman: A ...</a></h3>,\n",
       "  'Stars': 3,\n",
       "  'Price': '£17.93',\n",
       "  'Availablity': 'In stock',\n",
       "  'Image': 'https://books.toscrape.com/media/cache/3d/54/3d54940e57e662c4dd1f3ff00c78cc64.jpg'},\n",
       " {'Title': <h3><a href=\"catalogue/the-boys-in-the-boat-nine-americans-and-their-epic-quest-for-gold-at-the-1936-berlin-olympics_992/index.html\" title=\"The Boys in the Boat: Nine Americans and Their Epic Quest for Gold at the 1936 Berlin Olympics\">The Boys in the ...</a></h3>,\n",
       "  'Stars': 4,\n",
       "  'Price': '£22.60',\n",
       "  'Availablity': 'In stock',\n",
       "  'Image': 'https://books.toscrape.com/media/cache/66/88/66883b91f6804b2323c8369331cb7dd1.jpg'},\n",
       " {'Title': <h3><a href=\"catalogue/the-black-maria_991/index.html\" title=\"The Black Maria\">The Black Maria</a></h3>,\n",
       "  'Stars': 1,\n",
       "  'Price': '£52.15',\n",
       "  'Availablity': 'In stock',\n",
       "  'Image': 'https://books.toscrape.com/media/cache/58/46/5846057e28022268153beff6d352b06c.jpg'},\n",
       " {'Title': <h3><a href=\"catalogue/starving-hearts-triangular-trade-trilogy-1_990/index.html\" title=\"Starving Hearts (Triangular Trade Trilogy, #1)\">Starving Hearts (Triangular Trade ...</a></h3>,\n",
       "  'Stars': 2,\n",
       "  'Price': '£13.99',\n",
       "  'Availablity': 'In stock',\n",
       "  'Image': 'https://books.toscrape.com/media/cache/be/f4/bef44da28c98f905a3ebec0b87be8530.jpg'},\n",
       " {'Title': <h3><a href=\"catalogue/shakespeares-sonnets_989/index.html\" title=\"Shakespeare's Sonnets\">Shakespeare's Sonnets</a></h3>,\n",
       "  'Stars': 4,\n",
       "  'Price': '£20.66',\n",
       "  'Availablity': 'In stock',\n",
       "  'Image': 'https://books.toscrape.com/media/cache/10/48/1048f63d3b5061cd2f424d20b3f9b666.jpg'},\n",
       " {'Title': <h3><a href=\"catalogue/set-me-free_988/index.html\" title=\"Set Me Free\">Set Me Free</a></h3>,\n",
       "  'Stars': 5,\n",
       "  'Price': '£17.46',\n",
       "  'Availablity': 'In stock',\n",
       "  'Image': 'https://books.toscrape.com/media/cache/5b/88/5b88c52633f53cacf162c15f4f823153.jpg'},\n",
       " {'Title': <h3><a href=\"catalogue/scott-pilgrims-precious-little-life-scott-pilgrim-1_987/index.html\" title=\"Scott Pilgrim's Precious Little Life (Scott Pilgrim #1)\">Scott Pilgrim's Precious Little ...</a></h3>,\n",
       "  'Stars': 5,\n",
       "  'Price': '£52.29',\n",
       "  'Availablity': 'In stock',\n",
       "  'Image': 'https://books.toscrape.com/media/cache/94/b1/94b1b8b244bce9677c2f29ccc890d4d2.jpg'},\n",
       " {'Title': <h3><a href=\"catalogue/rip-it-up-and-start-again_986/index.html\" title=\"Rip it Up and Start Again\">Rip it Up and ...</a></h3>,\n",
       "  'Stars': 5,\n",
       "  'Price': '£35.02',\n",
       "  'Availablity': 'In stock',\n",
       "  'Image': 'https://books.toscrape.com/media/cache/81/c4/81c4a973364e17d01f217e1188253d5e.jpg'},\n",
       " {'Title': <h3><a href=\"catalogue/our-band-could-be-your-life-scenes-from-the-american-indie-underground-1981-1991_985/index.html\" title=\"Our Band Could Be Your Life: Scenes from the American Indie Underground, 1981-1991\">Our Band Could Be ...</a></h3>,\n",
       "  'Stars': 3,\n",
       "  'Price': '£57.25',\n",
       "  'Availablity': 'In stock',\n",
       "  'Image': 'https://books.toscrape.com/media/cache/54/60/54607fe8945897cdcced0044103b10b6.jpg'},\n",
       " {'Title': <h3><a href=\"catalogue/olio_984/index.html\" title=\"Olio\">Olio</a></h3>,\n",
       "  'Stars': 1,\n",
       "  'Price': '£23.88',\n",
       "  'Availablity': 'In stock',\n",
       "  'Image': 'https://books.toscrape.com/media/cache/55/33/553310a7162dfbc2c6d19a84da0df9e1.jpg'},\n",
       " {'Title': <h3><a href=\"catalogue/mesaerion-the-best-science-fiction-stories-1800-1849_983/index.html\" title=\"Mesaerion: The Best Science Fiction Stories 1800-1849\">Mesaerion: The Best Science ...</a></h3>,\n",
       "  'Stars': 1,\n",
       "  'Price': '£37.59',\n",
       "  'Availablity': 'In stock',\n",
       "  'Image': 'https://books.toscrape.com/media/cache/09/a3/09a3aef48557576e1a85ba7efea8ecb7.jpg'},\n",
       " {'Title': <h3><a href=\"catalogue/libertarianism-for-beginners_982/index.html\" title=\"Libertarianism for Beginners\">Libertarianism for Beginners</a></h3>,\n",
       "  'Stars': 2,\n",
       "  'Price': '£51.33',\n",
       "  'Availablity': 'In stock',\n",
       "  'Image': 'https://books.toscrape.com/media/cache/0b/bc/0bbcd0a6f4bcd81ccb1049a52736406e.jpg'},\n",
       " {'Title': <h3><a href=\"catalogue/its-only-the-himalayas_981/index.html\" title=\"It's Only the Himalayas\">It's Only the Himalayas</a></h3>,\n",
       "  'Stars': 2,\n",
       "  'Price': '£45.17',\n",
       "  'Availablity': 'In stock',\n",
       "  'Image': 'https://books.toscrape.com/media/cache/27/a5/27a53d0bb95bdd88288eaf66c9230d7e.jpg'}]"
      ]
     },
     "execution_count": 93,
     "metadata": {},
     "output_type": "execute_result"
    }
   ],
   "source": [
    "book_items"
   ]
  },
  {
   "cell_type": "code",
   "execution_count": null,
   "metadata": {},
   "outputs": [],
   "source": []
  }
 ],
 "metadata": {
  "kernelspec": {
   "display_name": "venv",
   "language": "python",
   "name": "python3"
  },
  "language_info": {
   "codemirror_mode": {
    "name": "ipython",
    "version": 3
   },
   "file_extension": ".py",
   "mimetype": "text/x-python",
   "name": "python",
   "nbconvert_exporter": "python",
   "pygments_lexer": "ipython3",
   "version": "3.12.3"
  }
 },
 "nbformat": 4,
 "nbformat_minor": 2
}
